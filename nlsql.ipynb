{
 "cells": [
  {
   "cell_type": "markdown",
   "metadata": {},
   "source": []
  },
  {
   "cell_type": "code",
   "execution_count": 100,
   "metadata": {},
   "outputs": [],
   "source": [
    "# %pip install --upgrade --quiet  langchain langchain-community"
   ]
  },
  {
   "cell_type": "code",
   "execution_count": 101,
   "metadata": {},
   "outputs": [
    {
     "name": "stdout",
     "output_type": "stream",
     "text": [
      "This is the dialect of the database sqlite\n",
      "This is the usable table names ['Customer', 'Employee', 'Invoice', 'InvoiceLine', 'Track']\n",
      "This is the table info of the database \n",
      "CREATE TABLE \"Customer\" (\n",
      "\t\"CustomerId\" INTEGER NOT NULL, \n",
      "\t\"FirstName\" NVARCHAR(40) NOT NULL, \n",
      "\t\"LastName\" NVARCHAR(20) NOT NULL, \n",
      "\t\"Company\" NVARCHAR(80), \n",
      "\t\"Address\" NVARCHAR(70), \n",
      "\t\"City\" NVARCHAR(40), \n",
      "\t\"State\" NVARCHAR(40), \n",
      "\t\"Country\" NVARCHAR(40), \n",
      "\t\"PostalCode\" NVARCHAR(10), \n",
      "\t\"Phone\" NVARCHAR(24), \n",
      "\t\"Fax\" NVARCHAR(24), \n",
      "\t\"Email\" NVARCHAR(60) NOT NULL, \n",
      "\t\"SupportRepId\" INTEGER, \n",
      "\tPRIMARY KEY (\"CustomerId\"), \n",
      "\tFOREIGN KEY(\"SupportRepId\") REFERENCES \"Employee\" (\"EmployeeId\")\n",
      ")\n",
      "\n",
      "/*\n",
      "3 rows from Customer table:\n",
      "CustomerId\tFirstName\tLastName\tCompany\tAddress\tCity\tState\tCountry\tPostalCode\tPhone\tFax\tEmail\tSupportRepId\n",
      "1\tLuís\tGonçalves\tEmbraer - Empresa Brasileira de Aeronáutica S.A.\tAv. Brigadeiro Faria Lima, 2170\tSão José dos Campos\tSP\tBrazil\t12227-000\t+55 (12) 3923-5555\t+55 (12) 3923-5566\tluisg@embraer.com.br\t3\n",
      "2\tLeonie\tKöhler\tNone\tTheodor-Heuss-Straße 34\tStuttgart\tNone\tGermany\t70174\t+49 0711 2842222\tNone\tleonekohler@surfeu.de\t5\n",
      "3\tFrançois\tTremblay\tNone\t1498 rue Bélanger\tMontréal\tQC\tCanada\tH2G 1A7\t+1 (514) 721-4711\tNone\tftremblay@gmail.com\t3\n",
      "*/\n",
      "\n",
      "\n",
      "CREATE TABLE \"Employee\" (\n",
      "\t\"EmployeeId\" INTEGER NOT NULL, \n",
      "\t\"LastName\" NVARCHAR(20) NOT NULL, \n",
      "\t\"FirstName\" NVARCHAR(20) NOT NULL, \n",
      "\t\"Title\" NVARCHAR(30), \n",
      "\t\"ReportsTo\" INTEGER, \n",
      "\t\"BirthDate\" DATETIME, \n",
      "\t\"HireDate\" DATETIME, \n",
      "\t\"Address\" NVARCHAR(70), \n",
      "\t\"City\" NVARCHAR(40), \n",
      "\t\"State\" NVARCHAR(40), \n",
      "\t\"Country\" NVARCHAR(40), \n",
      "\t\"PostalCode\" NVARCHAR(10), \n",
      "\t\"Phone\" NVARCHAR(24), \n",
      "\t\"Fax\" NVARCHAR(24), \n",
      "\t\"Email\" NVARCHAR(60), \n",
      "\tPRIMARY KEY (\"EmployeeId\"), \n",
      "\tFOREIGN KEY(\"ReportsTo\") REFERENCES \"Employee\" (\"EmployeeId\")\n",
      ")\n",
      "\n",
      "/*\n",
      "3 rows from Employee table:\n",
      "EmployeeId\tLastName\tFirstName\tTitle\tReportsTo\tBirthDate\tHireDate\tAddress\tCity\tState\tCountry\tPostalCode\tPhone\tFax\tEmail\n",
      "1\tAdams\tAndrew\tGeneral Manager\tNone\t1962-02-18 00:00:00\t2002-08-14 00:00:00\t11120 Jasper Ave NW\tEdmonton\tAB\tCanada\tT5K 2N1\t+1 (780) 428-9482\t+1 (780) 428-3457\tandrew@chinookcorp.com\n",
      "2\tEdwards\tNancy\tSales Manager\t1\t1958-12-08 00:00:00\t2002-05-01 00:00:00\t825 8 Ave SW\tCalgary\tAB\tCanada\tT2P 2T3\t+1 (403) 262-3443\t+1 (403) 262-3322\tnancy@chinookcorp.com\n",
      "3\tPeacock\tJane\tSales Support Agent\t2\t1973-08-29 00:00:00\t2002-04-01 00:00:00\t1111 6 Ave SW\tCalgary\tAB\tCanada\tT2P 5M5\t+1 (403) 262-3443\t+1 (403) 262-6712\tjane@chinookcorp.com\n",
      "*/\n",
      "\n",
      "\n",
      "CREATE TABLE \"Invoice\" (\n",
      "\t\"InvoiceId\" INTEGER NOT NULL, \n",
      "\t\"CustomerId\" INTEGER NOT NULL, \n",
      "\t\"InvoiceDate\" DATETIME NOT NULL, \n",
      "\t\"BillingAddress\" NVARCHAR(70), \n",
      "\t\"BillingCity\" NVARCHAR(40), \n",
      "\t\"BillingState\" NVARCHAR(40), \n",
      "\t\"BillingCountry\" NVARCHAR(40), \n",
      "\t\"BillingPostalCode\" NVARCHAR(10), \n",
      "\t\"Total\" NUMERIC(10, 2) NOT NULL, \n",
      "\tPRIMARY KEY (\"InvoiceId\"), \n",
      "\tFOREIGN KEY(\"CustomerId\") REFERENCES \"Customer\" (\"CustomerId\")\n",
      ")\n",
      "\n",
      "/*\n",
      "3 rows from Invoice table:\n",
      "InvoiceId\tCustomerId\tInvoiceDate\tBillingAddress\tBillingCity\tBillingState\tBillingCountry\tBillingPostalCode\tTotal\n",
      "1\t2\t2021-01-01 00:00:00\tTheodor-Heuss-Straße 34\tStuttgart\tNone\tGermany\t70174\t1.98\n",
      "2\t4\t2021-01-02 00:00:00\tUllevålsveien 14\tOslo\tNone\tNorway\t0171\t3.96\n",
      "3\t8\t2021-01-03 00:00:00\tGrétrystraat 63\tBrussels\tNone\tBelgium\t1000\t5.94\n",
      "*/\n",
      "\n",
      "\n",
      "CREATE TABLE \"InvoiceLine\" (\n",
      "\t\"InvoiceLineId\" INTEGER NOT NULL, \n",
      "\t\"InvoiceId\" INTEGER NOT NULL, \n",
      "\t\"TrackId\" INTEGER NOT NULL, \n",
      "\t\"UnitPrice\" NUMERIC(10, 2) NOT NULL, \n",
      "\t\"Quantity\" INTEGER NOT NULL, \n",
      "\tPRIMARY KEY (\"InvoiceLineId\"), \n",
      "\tFOREIGN KEY(\"TrackId\") REFERENCES \"Track\" (\"TrackId\"), \n",
      "\tFOREIGN KEY(\"InvoiceId\") REFERENCES \"Invoice\" (\"InvoiceId\")\n",
      ")\n",
      "\n",
      "/*\n",
      "3 rows from InvoiceLine table:\n",
      "InvoiceLineId\tInvoiceId\tTrackId\tUnitPrice\tQuantity\n",
      "1\t1\t2\t0.99\t1\n",
      "2\t1\t4\t0.99\t1\n",
      "3\t2\t6\t0.99\t1\n",
      "*/\n",
      "\n",
      "\n",
      "CREATE TABLE \"Track\" (\n",
      "\t\"TrackId\" INTEGER NOT NULL, \n",
      "\t\"Name\" NVARCHAR(200) NOT NULL, \n",
      "\t\"AlbumId\" INTEGER, \n",
      "\t\"MediaTypeId\" INTEGER NOT NULL, \n",
      "\t\"GenreId\" INTEGER, \n",
      "\t\"Composer\" NVARCHAR(220), \n",
      "\t\"Milliseconds\" INTEGER NOT NULL, \n",
      "\t\"Bytes\" INTEGER, \n",
      "\t\"UnitPrice\" NUMERIC(10, 2) NOT NULL, \n",
      "\tPRIMARY KEY (\"TrackId\"), \n",
      "\tFOREIGN KEY(\"MediaTypeId\") REFERENCES \"MediaType\" (\"MediaTypeId\"), \n",
      "\tFOREIGN KEY(\"GenreId\") REFERENCES \"Genre\" (\"GenreId\"), \n",
      "\tFOREIGN KEY(\"AlbumId\") REFERENCES \"Album\" (\"AlbumId\")\n",
      ")\n",
      "\n",
      "/*\n",
      "3 rows from Track table:\n",
      "TrackId\tName\tAlbumId\tMediaTypeId\tGenreId\tComposer\tMilliseconds\tBytes\tUnitPrice\n",
      "1\tFor Those About To Rock (We Salute You)\t1\t1\t1\tAngus Young, Malcolm Young, Brian Johnson\t343719\t11170334\t0.99\n",
      "2\tBalls to the Wall\t2\t2\t1\tU. Dirkschneider, W. Hoffmann, H. Frank, P. Baltes, S. Kaufmann, G. Hoffmann\t342562\t5510424\t0.99\n",
      "3\tFast As a Shark\t3\t2\t1\tF. Baltes, S. Kaufman, U. Dirkscneider & W. Hoffman\t230619\t3990994\t0.99\n",
      "*/\n"
     ]
    }
   ],
   "source": [
    "from langchain_community.utilities import SQLDatabase\n",
    "\n",
    "db = SQLDatabase.from_uri(\"sqlite:///Chinook.db\", ignore_tables = ['Album', 'Artist',  'Genre' , 'MediaType', 'Playlist', 'PlaylistTrack',], )\n",
    "#db.run(\"SELECT * FROM Artist LIMIT 10;\")\n",
    "print(f\"This is the dialect of the database {db.dialect}\")\n",
    "print(f\"This is the usable table names {db.get_usable_table_names()}\")\n",
    "print(f\"This is the table info of the database {db.table_info}\")"
   ]
  },
  {
   "cell_type": "code",
   "execution_count": null,
   "metadata": {},
   "outputs": [],
   "source": []
  },
  {
   "cell_type": "code",
   "execution_count": 102,
   "metadata": {},
   "outputs": [],
   "source": [
    "import os \n",
    "\n",
    "\n",
    "\n",
    "# Getting API key from another environment file\n",
    "from dotenv import load_dotenv, find_dotenv\n",
    "load_dotenv('api_keys.env')\n",
    "# _ = load_dotenv(find_dotenv()) # read\n",
    "\n",
    "api_key = os.environ['GEMINI_API_KEY']"
   ]
  },
  {
   "cell_type": "code",
   "execution_count": 103,
   "metadata": {},
   "outputs": [
    {
     "data": {
      "text/plain": [
       "'SELECT COUNT(*) FROM Employee'"
      ]
     },
     "execution_count": 103,
     "metadata": {},
     "output_type": "execute_result"
    }
   ],
   "source": [
    "from langchain.chains import create_sql_query_chain\n",
    "from langchain_google_genai import GoogleGenerativeAI\n",
    "\n",
    "# Large model to be used\n",
    "llm = GoogleGenerativeAI(model=\"models/text-bison-001\", google_api_key=api_key)\n",
    "#SQL query chain \n",
    "generate_query = create_sql_query_chain(llm, db)\n",
    "query = generate_query.invoke({\"question\": \"How many employees are there\"})\n",
    "query"
   ]
  },
  {
   "cell_type": "code",
   "execution_count": 104,
   "metadata": {},
   "outputs": [
    {
     "name": "stdout",
     "output_type": "stream",
     "text": [
      "[(8,)]\n"
     ]
    }
   ],
   "source": [
    "# To execute the query \n",
    "from langchain_community.tools.sql_database.tool import QuerySQLDataBaseTool\n",
    "execute_query = QuerySQLDataBaseTool(db=db)\n",
    "generate_query = create_sql_query_chain(llm, db)\n",
    "chain = generate_query | execute_query\n",
    "query = chain.invoke({\"question\": \"How many employees are there\"})\n",
    "print(query)\n"
   ]
  },
  {
   "cell_type": "code",
   "execution_count": 105,
   "metadata": {},
   "outputs": [
    {
     "name": "stdout",
     "output_type": "stream",
     "text": [
      "You are a SQLite expert. Given an input question, first create a syntactically correct SQLite query to run, then look at the results of the query and return the answer to the input question.\n",
      "Unless the user specifies in the question a specific number of examples to obtain, query for at most 5 results using the LIMIT clause as per SQLite. You can order the results to return the most informative data in the database.\n",
      "Never query for all columns from a table. You must query only the columns that are needed to answer the question. Wrap each column name in double quotes (\") to denote them as delimited identifiers.\n",
      "Pay attention to use only the column names you can see in the tables below. Be careful to not query for columns that do not exist. Also, pay attention to which column is in which table.\n",
      "Pay attention to use date('now') function to get the current date, if the question involves \"today\".\n",
      "\n",
      "Use the following format:\n",
      "\n",
      "Question: Question here\n",
      "SQLQuery: SQL Query to run\n",
      "SQLResult: Result of the SQLQuery\n",
      "Answer: Final answer here\n",
      "\n",
      "Only use the following tables:\n",
      "\u001b[33;1m\u001b[1;3m{table_info}\u001b[0m\n",
      "\n",
      "Question: \u001b[33;1m\u001b[1;3m{input}\u001b[0m\n"
     ]
    }
   ],
   "source": [
    "chain.get_prompts()[0].pretty_print()"
   ]
  },
  {
   "cell_type": "code",
   "execution_count": 106,
   "metadata": {},
   "outputs": [
    {
     "name": "stdout",
     "output_type": "stream",
     "text": [
      "There are 412 orders.\n"
     ]
    }
   ],
   "source": [
    "from operator import itemgetter\n",
    "\n",
    "from  langchain_core.output_parsers import StrOutputParser\n",
    "from langchain_core.prompts import PromptTemplate\n",
    "from langchain_core.runnables import RunnablePassthrough\n",
    "\n",
    "answer_prompt = PromptTemplate.from_template(\n",
    "    \"\"\"Given the following user question, corresponding SQL query, and SQL result, \n",
    "    answer the user question in a contructive sentence that mentions the question asked.\n",
    "    Question: {question}\n",
    "    SQL Query: {query}\n",
    "    SQL  Result: {result}\n",
    "    Answer: \"\"\"\n",
    ")\n",
    "\n",
    "rephrase_answer = answer_prompt | llm | StrOutputParser()\n",
    "chain = (\n",
    "    RunnablePassthrough.assign(query=generate_query).assign(\n",
    "        result=itemgetter(\"query\") | execute_query\n",
    "    )\n",
    "    | rephrase_answer\n",
    ")\n",
    "\n",
    "answer = chain.invoke({\"question\": \"How many orders are there\"})\n",
    "print(answer)"
   ]
  },
  {
   "cell_type": "code",
   "execution_count": 107,
   "metadata": {},
   "outputs": [
    {
     "name": "stdout",
     "output_type": "stream",
     "text": [
      "There are 275 artists.\n"
     ]
    }
   ],
   "source": [
    "answer = chain.invoke({\"question\": \"How many artist are there\"})\n",
    "print(answer)"
   ]
  },
  {
   "cell_type": "code",
   "execution_count": 108,
   "metadata": {},
   "outputs": [],
   "source": [
    "example = [\n",
    "    {\n",
    "    \"input\": \"Hey, can you tell me what track number  For Those About To Rock (We Salute You) is?\",\n",
    "    \"query\": \"What is the TrackId for Name = 'For Those About To Rock (We Salute You)'?\"\n",
    "  },\n",
    "  \n",
    "    {\"input\": \"Show details of the invoice for track ID 4\", \n",
    "     \"query\": \"SELECT i.InvoiceId, i.CustomerId, c.FirstName, c.LastName, il.UnitPrice, il.Quantity, i.Total FROM Invoice i JOIN InvoiceLine il ON i.InvoiceId = il.InvoiceId JOIN Customer c ON i.CustomerId = c.CustomerId WHERE il.TrackId = 4\"\n",
    "     },\n",
    "\n",
    "{\"input\": \"I want to find the contact details for customer Leonie Köhler\",\n",
    "  \"query\": \"SELECT * FROM Customer WHERE FirstName = 'Leonie' AND LastName = 'Köhler'\"\n",
    "  },\n",
    "\n",
    "{\"input\": \"What is the total amount invoiced to customer Embraer - Empresa Brasileira de Aeronáutica S.A.?\" , \n",
    " \"query\": \"SELECT SUM(Total) FROM Invoice WHERE CustomerId = (SELECT CustomerId FROM Customer WHERE Company = 'Embraer - Empresa Brasileira de Aeronáutica S.A.')\"\n",
    " },\n",
    "\n",
    "{\"input\": \"List all invoices with a total over $4.00\", \n",
    " \"query\": \"SELECT * FROM Invoice WHERE Total > 4.00\"\n",
    " },\n",
    "\n",
    "{\n",
    "\"input\": \"Change Luis Gonçalves' email to luisg@embraer.com.br\",\n",
    "\"query\": \"UPDATE Customer SET Email = 'luisg@embraer.com.br' WHERE FirstName = 'Luís' AND LastName = 'Gonçalves';\"\n",
    "}\n",
    "]"
   ]
  },
  {
   "cell_type": "code",
   "execution_count": 109,
   "metadata": {},
   "outputs": [
    {
     "name": "stdout",
     "output_type": "stream",
     "text": [
      "Human: Hey, can you tell me what track number  For Those About To Rock (We Salute You) is?\n",
      "SQLQuery:\n",
      "AI: What is the TrackId for Name = 'For Those About To Rock (We Salute You)'?\n",
      "Human: Show details of the invoice for track ID 4\n",
      "SQLQuery:\n",
      "AI: SELECT i.InvoiceId, i.CustomerId, c.FirstName, c.LastName, il.UnitPrice, il.Quantity, i.Total FROM Invoice i JOIN InvoiceLine il ON i.InvoiceId = il.InvoiceId JOIN Customer c ON i.CustomerId = c.CustomerId WHERE il.TrackId = 4\n",
      "Human: I want to find the contact details for customer Leonie Köhler\n",
      "SQLQuery:\n",
      "AI: SELECT * FROM Customer WHERE FirstName = 'Leonie' AND LastName = 'Köhler'\n",
      "Human: What is the total amount invoiced to customer Embraer - Empresa Brasileira de Aeronáutica S.A.?\n",
      "SQLQuery:\n",
      "AI: SELECT SUM(Total) FROM Invoice WHERE CustomerId = (SELECT CustomerId FROM Customer WHERE Company = 'Embraer - Empresa Brasileira de Aeronáutica S.A.')\n",
      "Human: List all invoices with a total over $4.00\n",
      "SQLQuery:\n",
      "AI: SELECT * FROM Invoice WHERE Total > 4.00\n",
      "Human: Change Luis Gonçalves' email to luisg@embraer.com.br\n",
      "SQLQuery:\n",
      "AI: UPDATE Customer SET Email = 'luisg@embraer.com.br' WHERE FirstName = 'Luís' AND LastName = 'Gonçalves';\n"
     ]
    }
   ],
   "source": [
    "from langchain_core.prompts import ChatPromptTemplate, MessagesPlaceholder,FewShotChatMessagePromptTemplate,PromptTemplate\n",
    "\n",
    "example_prompt = ChatPromptTemplate.from_messages(\n",
    "     [\n",
    "         (\"human\", \"{input}\\nSQLQuery:\"),\n",
    "         (\"ai\", \"{query}\"),\n",
    "     ]\n",
    " )\n",
    "few_shot_prompt = FewShotChatMessagePromptTemplate(\n",
    "     example_prompt=example_prompt,\n",
    "     examples=example,\n",
    "     # input_variables=[\"input\",\"top_k\"],\n",
    "     input_variables=[\"input\"],\n",
    " )\n",
    "print(few_shot_prompt.format(input=\"How many products are there?\"))\n"
   ]
  },
  {
   "cell_type": "code",
   "execution_count": 110,
   "metadata": {},
   "outputs": [],
   "source": [
    "from langchain_google_genai import GoogleGenerativeAIEmbeddings\n",
    "\n",
    "embeddings = GoogleGenerativeAIEmbeddings(model=\"models/embedding-001\", google_api_key=api_key)"
   ]
  },
  {
   "cell_type": "code",
   "execution_count": 111,
   "metadata": {},
   "outputs": [
    {
     "name": "stdout",
     "output_type": "stream",
     "text": [
      "Requirement already satisfied: langchain_openai in c:\\users\\i\\desktop\\llm\\env\\lib\\site-packages (0.1.1)Note: you may need to restart the kernel to use updated packages.\n",
      "\n",
      "Requirement already satisfied: langchain-core<0.2.0,>=0.1.33 in c:\\users\\i\\desktop\\llm\\env\\lib\\site-packages (from langchain_openai) (0.1.33)\n",
      "Requirement already satisfied: openai<2.0.0,>=1.10.0 in c:\\users\\i\\desktop\\llm\\env\\lib\\site-packages (from langchain_openai) (1.14.3)\n",
      "Requirement already satisfied: tiktoken<1,>=0.5.2 in c:\\users\\i\\desktop\\llm\\env\\lib\\site-packages (from langchain_openai) (0.6.0)\n",
      "Requirement already satisfied: PyYAML>=5.3 in c:\\users\\i\\desktop\\llm\\env\\lib\\site-packages (from langchain-core<0.2.0,>=0.1.33->langchain_openai) (6.0.1)\n",
      "Requirement already satisfied: anyio<5,>=3 in c:\\users\\i\\desktop\\llm\\env\\lib\\site-packages (from langchain-core<0.2.0,>=0.1.33->langchain_openai) (3.7.1)\n",
      "Requirement already satisfied: jsonpatch<2.0,>=1.33 in c:\\users\\i\\desktop\\llm\\env\\lib\\site-packages (from langchain-core<0.2.0,>=0.1.33->langchain_openai) (1.33)\n",
      "Requirement already satisfied: langsmith<0.2.0,>=0.1.0 in c:\\users\\i\\desktop\\llm\\env\\lib\\site-packages (from langchain-core<0.2.0,>=0.1.33->langchain_openai) (0.1.22)\n",
      "Requirement already satisfied: packaging<24.0,>=23.2 in c:\\users\\i\\desktop\\llm\\env\\lib\\site-packages (from langchain-core<0.2.0,>=0.1.33->langchain_openai) (23.2)\n",
      "Requirement already satisfied: pydantic<3,>=1 in c:\\users\\i\\desktop\\llm\\env\\lib\\site-packages (from langchain-core<0.2.0,>=0.1.33->langchain_openai) (1.10.14)\n",
      "Requirement already satisfied: requests<3,>=2 in c:\\users\\i\\desktop\\llm\\env\\lib\\site-packages (from langchain-core<0.2.0,>=0.1.33->langchain_openai) (2.31.0)\n",
      "Requirement already satisfied: tenacity<9.0.0,>=8.1.0 in c:\\users\\i\\desktop\\llm\\env\\lib\\site-packages (from langchain-core<0.2.0,>=0.1.33->langchain_openai) (8.2.3)\n",
      "Requirement already satisfied: distro<2,>=1.7.0 in c:\\users\\i\\desktop\\llm\\env\\lib\\site-packages (from openai<2.0.0,>=1.10.0->langchain_openai) (1.9.0)\n",
      "Requirement already satisfied: httpx<1,>=0.23.0 in c:\\users\\i\\desktop\\llm\\env\\lib\\site-packages (from openai<2.0.0,>=1.10.0->langchain_openai) (0.27.0)\n",
      "Requirement already satisfied: sniffio in c:\\users\\i\\desktop\\llm\\env\\lib\\site-packages (from openai<2.0.0,>=1.10.0->langchain_openai) (1.3.1)\n",
      "Requirement already satisfied: tqdm>4 in c:\\users\\i\\desktop\\llm\\env\\lib\\site-packages (from openai<2.0.0,>=1.10.0->langchain_openai) (4.66.2)\n",
      "Requirement already satisfied: typing-extensions<5,>=4.7 in c:\\users\\i\\desktop\\llm\\env\\lib\\site-packages (from openai<2.0.0,>=1.10.0->langchain_openai) (4.10.0)\n",
      "Requirement already satisfied: regex>=2022.1.18 in c:\\users\\i\\desktop\\llm\\env\\lib\\site-packages (from tiktoken<1,>=0.5.2->langchain_openai) (2023.12.25)\n",
      "Requirement already satisfied: idna>=2.8 in c:\\users\\i\\desktop\\llm\\env\\lib\\site-packages (from anyio<5,>=3->langchain-core<0.2.0,>=0.1.33->langchain_openai) (3.6)\n",
      "Requirement already satisfied: exceptiongroup in c:\\users\\i\\desktop\\llm\\env\\lib\\site-packages (from anyio<5,>=3->langchain-core<0.2.0,>=0.1.33->langchain_openai) (1.2.0)\n",
      "Requirement already satisfied: certifi in c:\\users\\i\\desktop\\llm\\env\\lib\\site-packages (from httpx<1,>=0.23.0->openai<2.0.0,>=1.10.0->langchain_openai) (2023.11.17)\n",
      "Requirement already satisfied: httpcore==1.* in c:\\users\\i\\desktop\\llm\\env\\lib\\site-packages (from httpx<1,>=0.23.0->openai<2.0.0,>=1.10.0->langchain_openai) (1.0.4)\n",
      "Requirement already satisfied: h11<0.15,>=0.13 in c:\\users\\i\\desktop\\llm\\env\\lib\\site-packages (from httpcore==1.*->httpx<1,>=0.23.0->openai<2.0.0,>=1.10.0->langchain_openai) (0.14.0)\n",
      "Requirement already satisfied: jsonpointer>=1.9 in c:\\users\\i\\desktop\\llm\\env\\lib\\site-packages (from jsonpatch<2.0,>=1.33->langchain-core<0.2.0,>=0.1.33->langchain_openai) (2.4)\n",
      "Requirement already satisfied: orjson<4.0.0,>=3.9.14 in c:\\users\\i\\desktop\\llm\\env\\lib\\site-packages (from langsmith<0.2.0,>=0.1.0->langchain-core<0.2.0,>=0.1.33->langchain_openai) (3.9.15)\n",
      "Requirement already satisfied: charset-normalizer<4,>=2 in c:\\users\\i\\desktop\\llm\\env\\lib\\site-packages (from requests<3,>=2->langchain-core<0.2.0,>=0.1.33->langchain_openai) (3.3.2)\n",
      "Requirement already satisfied: urllib3<3,>=1.21.1 in c:\\users\\i\\desktop\\llm\\env\\lib\\site-packages (from requests<3,>=2->langchain-core<0.2.0,>=0.1.33->langchain_openai) (2.2.1)\n",
      "Requirement already satisfied: colorama in c:\\users\\i\\desktop\\llm\\env\\lib\\site-packages (from tqdm>4->openai<2.0.0,>=1.10.0->langchain_openai) (0.4.6)\n"
     ]
    }
   ],
   "source": [
    "%pip install langchain_openai"
   ]
  },
  {
   "cell_type": "code",
   "execution_count": 112,
   "metadata": {},
   "outputs": [
    {
     "data": {
      "text/plain": [
       "[{'input': 'Show details of the invoice for track ID 4',\n",
       "  'query': 'SELECT i.InvoiceId, i.CustomerId, c.FirstName, c.LastName, il.UnitPrice, il.Quantity, i.Total FROM Invoice i JOIN InvoiceLine il ON i.InvoiceId = il.InvoiceId JOIN Customer c ON i.CustomerId = c.CustomerId WHERE il.TrackId = 4'},\n",
       " {'input': 'What is the total amount invoiced to customer Embraer - Empresa Brasileira de Aeronáutica S.A.?',\n",
       "  'query': \"SELECT SUM(Total) FROM Invoice WHERE CustomerId = (SELECT CustomerId FROM Customer WHERE Company = 'Embraer - Empresa Brasileira de Aeronáutica S.A.')\"},\n",
       " {'input': 'List all invoices with a total over $4.00',\n",
       "  'query': 'SELECT * FROM Invoice WHERE Total > 4.00'},\n",
       " {'input': 'I want to find the contact details for customer Leonie Köhler',\n",
       "  'query': \"SELECT * FROM Customer WHERE FirstName = 'Leonie' AND LastName = 'Köhler'\"}]"
      ]
     },
     "execution_count": 112,
     "metadata": {},
     "output_type": "execute_result"
    }
   ],
   "source": [
    "from langchain_community.vectorstores import Chroma\n",
    "from langchain_core.example_selectors import SemanticSimilarityExampleSelector\n",
    "from langchain_openai import OpenAIEmbeddings\n",
    "vectorstore = Chroma()\n",
    "vectorstore.delete_collection()\n",
    "example_selector = SemanticSimilarityExampleSelector.from_examples(\n",
    "    example,\n",
    "    embeddings,\n",
    "    vectorstore,\n",
    "    # k=2,\n",
    "    input_keys=[\"input\"],\n",
    ")\n",
    "example_selector.select_examples({\"input\": \"Who is highest paying customer\"})"
   ]
  },
  {
   "cell_type": "code",
   "execution_count": 113,
   "metadata": {},
   "outputs": [
    {
     "name": "stdout",
     "output_type": "stream",
     "text": [
      "Human: Show details of the invoice for track ID 4\n",
      "SQLQuery:\n",
      "AI: SELECT i.InvoiceId, i.CustomerId, c.FirstName, c.LastName, il.UnitPrice, il.Quantity, i.Total FROM Invoice i JOIN InvoiceLine il ON i.InvoiceId = il.InvoiceId JOIN Customer c ON i.CustomerId = c.CustomerId WHERE il.TrackId = 4\n",
      "Human: I want to find the contact details for customer Leonie Köhler\n",
      "SQLQuery:\n",
      "AI: SELECT * FROM Customer WHERE FirstName = 'Leonie' AND LastName = 'Köhler'\n",
      "Human: List all invoices with a total over $4.00\n",
      "SQLQuery:\n",
      "AI: SELECT * FROM Invoice WHERE Total > 4.00\n",
      "Human: What is the total amount invoiced to customer Embraer - Empresa Brasileira de Aeronáutica S.A.?\n",
      "SQLQuery:\n",
      "AI: SELECT SUM(Total) FROM Invoice WHERE CustomerId = (SELECT CustomerId FROM Customer WHERE Company = 'Embraer - Empresa Brasileira de Aeronáutica S.A.')\n"
     ]
    }
   ],
   "source": [
    "few_shot_prompt = FewShotChatMessagePromptTemplate(\n",
    "     example_prompt=example_prompt,\n",
    "     example_selector=example_selector,\n",
    "     input_variables=[\"input\", \"top_k\"],\n",
    " )\n",
    "print(few_shot_prompt.format(input=\"I am looking for the most paying customer\"))"
   ]
  },
  {
   "cell_type": "code",
   "execution_count": 126,
   "metadata": {},
   "outputs": [],
   "source": [
    "final_prompt = ChatPromptTemplate.from_messages(\n",
    "    [\n",
    "    (\"system\", \"You are a SQLite expert. Given an input question, create a symtactically correct SQLite query to run. Unless otherwise specified. \\n\\nHere is the relevant table info: {table_info}\\n\\nBelow are a number of examples of questions and their corresponding SQL queries.\"),\n",
    "    few_shot_prompt, \n",
    "    (\"human\", \"{input}\"),\n",
    "    ]\n",
    ")\n",
    "\n",
    "# print(final_prompt.format(input=\"\",table_info=\"some table info\"))"
   ]
  },
  {
   "cell_type": "code",
   "execution_count": 127,
   "metadata": {},
   "outputs": [
    {
     "data": {
      "text/plain": [
       "'The question is \"WHich customer has the highest invoice\". The SQL query is \"AI: SELECT CustomerId, MAX(Total) FROM Invoice GROUP BY CustomerId\". The SQL result is \"Error: (sqlite3.OperationalError) near \\\\\"AI\\\\\": syntax error\". The correct SQL query is \"SELECT CustomerId, MAX(Total) FROM Invoice GROUP BY CustomerId\". The SQL result is \"652\". The answer is \"Customer 652 has the highest invoice\".'"
      ]
     },
     "execution_count": 127,
     "metadata": {},
     "output_type": "execute_result"
    }
   ],
   "source": [
    "generate_query = create_sql_query_chain(llm, db,final_prompt)\n",
    "chain = (\n",
    "    RunnablePassthrough.assign(query=generate_query).assign(\n",
    "        result=itemgetter(\"query\") | execute_query\n",
    "    )\n",
    "    | rephrase_answer\n",
    ")\n",
    "chain.invoke({\"question\": \"WHich customer has the highest invoice\"})"
   ]
  },
  {
   "cell_type": "code",
   "execution_count": null,
   "metadata": {},
   "outputs": [],
   "source": []
  },
  {
   "cell_type": "code",
   "execution_count": 116,
   "metadata": {},
   "outputs": [
    {
     "data": {
      "text/html": [
       "<div>\n",
       "<style scoped>\n",
       "    .dataframe tbody tr th:only-of-type {\n",
       "        vertical-align: middle;\n",
       "    }\n",
       "\n",
       "    .dataframe tbody tr th {\n",
       "        vertical-align: top;\n",
       "    }\n",
       "\n",
       "    .dataframe thead th {\n",
       "        text-align: right;\n",
       "    }\n",
       "</style>\n",
       "<table border=\"1\" class=\"dataframe\">\n",
       "  <thead>\n",
       "    <tr style=\"text-align: right;\">\n",
       "      <th></th>\n",
       "      <th>table</th>\n",
       "      <th>description</th>\n",
       "    </tr>\n",
       "  </thead>\n",
       "  <tbody>\n",
       "    <tr>\n",
       "      <th>0</th>\n",
       "      <td>Customer</td>\n",
       "      <td>Stores customer information. Includes columns ...</td>\n",
       "    </tr>\n",
       "    <tr>\n",
       "      <th>1</th>\n",
       "      <td>Employee</td>\n",
       "      <td>Stores employee information. Includes columns ...</td>\n",
       "    </tr>\n",
       "    <tr>\n",
       "      <th>2</th>\n",
       "      <td>Invoice</td>\n",
       "      <td>Stores information about customer invoices. In...</td>\n",
       "    </tr>\n",
       "    <tr>\n",
       "      <th>3</th>\n",
       "      <td>InvoiceLine</td>\n",
       "      <td>Links invoices to specific tracks purchased. I...</td>\n",
       "    </tr>\n",
       "    <tr>\n",
       "      <th>4</th>\n",
       "      <td>Track</td>\n",
       "      <td>Stores information about individual music trac...</td>\n",
       "    </tr>\n",
       "  </tbody>\n",
       "</table>\n",
       "</div>"
      ],
      "text/plain": [
       "         table                                        description\n",
       "0     Customer  Stores customer information. Includes columns ...\n",
       "1     Employee  Stores employee information. Includes columns ...\n",
       "2      Invoice  Stores information about customer invoices. In...\n",
       "3  InvoiceLine  Links invoices to specific tracks purchased. I...\n",
       "4        Track  Stores information about individual music trac..."
      ]
     },
     "execution_count": 116,
     "metadata": {},
     "output_type": "execute_result"
    }
   ],
   "source": [
    "import pandas as pd\n",
    "\n",
    "data = {'table': ['Customer', 'Employee', 'Invoice', \n",
    "                 'InvoiceLine', 'Track'],\n",
    "        'description': [\n",
    "\n",
    "            'Stores customer information. Includes columns for CustomerId (primary key), name, contact details (address, phone, email), and a foreign key referencing the Employee table for the support representative assigned to the customer. Connects to the Invoice table through the CustomerId foreign key in the Invoice table.',\n",
    "            'Stores employee information. Includes columns for EmployeeId (primary key), name, title, hire/birth dates, contact details (address, phone, email), and a foreign key referencing another Employee for their manager (if applicable). Connects to the Customer table through the SupportRepId foreign key in the Customer table (one-to-many relationship - one employee can support many customers).',\n",
    "            'Stores information about customer invoices. Includes columns for InvoiceId (primary key), CustomerId (foreign key referencing the Customer table), InvoiceDate, billing address details, and Total invoice amount. Connects to the Customer table through the CustomerId foreign key. Connects to the InvoiceLine table through the InvoiceId foreign key in the InvoiceLine table (one-to-many relationship - one invoice can have many invoice lines).',\n",
    "            'Links invoices to specific tracks purchased. Includes columns for InvoiceLineId (primary key), InvoiceId (foreign key referencing the Invoice table), TrackId (foreign key referencing the Track table), UnitPrice per track, and Quantity purchased. Connects to the Invoice table through the InvoiceId foreign key. Connects to the Track table through the TrackId foreign key.',\n",
    "            'Stores information about individual music tracks. Connects to the InvoiceLine table through the TrackId foreign key in the InvoiceLine table (one-to-many relationship - one track can be included in many invoices). '\n",
    "            ]\n",
    "        }\n",
    "\n",
    "df = pd.DataFrame(data)\n",
    "df"
   ]
  },
  {
   "cell_type": "code",
   "execution_count": 117,
   "metadata": {},
   "outputs": [],
   "source": [
    "# import pandas as pd\n",
    "\n",
    "# data = {'table': ['Album', 'Artist', 'Customer', 'Employee', 'Genre', 'Invoice', \n",
    "#                  'InvoiceLine', 'MediaType', 'Playlist', 'PlaylistTrack', 'Track'],\n",
    "#         'description': [\n",
    "#             'Stores information about music albums. Includes columns for AlbumId (primary key), Title (album title), and ArtistId (foreign key referencing the Artist table).',\n",
    "#             'Stores information about artists. Includes columns for ArtistId (primary key) and Name (artist name).Connects to the Album table through the ArtistId foreign key in the Album table.',\n",
    "#             'Stores customer information. Includes columns for CustomerId (primary key), name, contact details (address, phone, email), and a foreign key referencing the Employee table for the support representative assigned to the customer. Connects to the Invoice table through the CustomerId foreign key in the Invoice table.',\n",
    "#             'Stores employee information. Includes columns for EmployeeId (primary key), name, title, hire/birth dates, contact details (address, phone, email), and a foreign key referencing another Employee for their manager (if applicable). Connects to the Customer table through the SupportRepId foreign key in the Customer table (one-to-many relationship - one employee can support many customers).',\n",
    "#             'Stores musical genre information. Includes columns for GenreId (primary key) and Name (genre name). Connects to the Track table through the GenreId foreign key in the Track table.',\n",
    "#             'Stores information about customer invoices. Includes columns for InvoiceId (primary key), CustomerId (foreign key referencing the Customer table), InvoiceDate, billing address details, and Total invoice amount. Connects to the Customer table through the CustomerId foreign key. Connects to the InvoiceLine table through the InvoiceId foreign key in the InvoiceLine table (one-to-many relationship - one invoice can have many invoice lines).',\n",
    "#             'Links invoices to specific tracks purchased. Includes columns for InvoiceLineId (primary key), InvoiceId (foreign key referencing the Invoice table), TrackId (foreign key referencing the Track table), UnitPrice per track, and Quantity purchased. Connects to the Invoice table through the InvoiceId foreign key. Connects to the Track table through the TrackId foreign key.',\n",
    "#             'Stores different media types (e.g., audio file format).Includes columns for MediaTypeId (primary key) and Name (media type name). Connects to the Track table through the MediaTypeId foreign key in the Track table.',\n",
    "#             'Stores playlists. Includes columns for PlaylistId (primary key) and Name (playlist name). Connects to the Track table through the many-to-many relationship table PlaylistTrack.',\n",
    "#             'Links playlists to tracks included in them. Includes foreign keys referencing both PlaylistId and TrackId. Connects the Playlist and Track tables through a many-to-many relationship.',\n",
    "#             'Stores information about individual music tracks. Includes columns for TrackId (primary key), Name (track title), AlbumId (foreign key referencing the Album table), MediaTypeId (foreign key referencing the MediaType table), GenreId (foreign key referencing the Genre table), composer information, Milliseconds (track duration), Bytes (file size), and UnitPrice. Connects to the Album table through the AlbumId foreign key. Connects to the Genre table through the GenreId foreign key. Connects to the MediaType table through the MediaTypeId foreign key. Connects to the InvoiceLine table through the TrackId foreign key in the InvoiceLine table (one-to-many relationship - one track can be included in many invoices). Connects to the Playlist table through the many-to-many relationship table PlaylistTrack.'\n",
    "#             ]\n",
    "#         }\n",
    "\n",
    "# df = pd.DataFrame(data)\n",
    "# df"
   ]
  },
  {
   "cell_type": "code",
   "execution_count": 118,
   "metadata": {},
   "outputs": [
    {
     "name": "stdout",
     "output_type": "stream",
     "text": [
      "Table Name: Customer\n",
      "Table Description: Stores customer information. Includes columns for CustomerId (primary key), name, contact details (address, phone, email), and a foreign key referencing the Employee table for the support representative assigned to the customer. Connects to the Invoice table through the CustomerId foreign key in the Invoice table.\n",
      "Table Name: Employee\n",
      "Table Description: Stores employee information. Includes columns for EmployeeId (primary key), name, title, hire/birth dates, contact details (address, phone, email), and a foreign key referencing another Employee for their manager (if applicable). Connects to the Customer table through the SupportRepId foreign key in the Customer table (one-to-many relationship - one employee can support many customers).\n",
      "Table Name: Invoice\n",
      "Table Description: Stores information about customer invoices. Includes columns for InvoiceId (primary key), CustomerId (foreign key referencing the Customer table), InvoiceDate, billing address details, and Total invoice amount. Connects to the Customer table through the CustomerId foreign key. Connects to the InvoiceLine table through the InvoiceId foreign key in the InvoiceLine table (one-to-many relationship - one invoice can have many invoice lines).\n",
      "Table Name: InvoiceLine\n",
      "Table Description: Links invoices to specific tracks purchased. Includes columns for InvoiceLineId (primary key), InvoiceId (foreign key referencing the Invoice table), TrackId (foreign key referencing the Track table), UnitPrice per track, and Quantity purchased. Connects to the Invoice table through the InvoiceId foreign key. Connects to the Track table through the TrackId foreign key.\n",
      "Table Name: Track\n",
      "Table Description: Stores information about individual music tracks. Connects to the InvoiceLine table through the TrackId foreign key in the InvoiceLine table (one-to-many relationship - one track can be included in many invoices). \n",
      "\n"
     ]
    }
   ],
   "source": [
    "from operator import itemgetter\n",
    "from langchain_core.pydantic_v1 import BaseModel, Field\n",
    "from langchain.chains.openai_tools import create_extraction_chain_pydantic\n",
    "from typing import List\n",
    "\n",
    "\n",
    "def get_table_details(df):\n",
    "    # Read the CSV file into a dataframe\n",
    "    table_description = df\n",
    "    table_docs = []\n",
    "\n",
    "    #Iterates over the Dataframe rows to create Document objects\n",
    "    table_details = \"\"\n",
    "    for index, row in table_description.iterrows():\n",
    "        table_details = table_details + \"Table Name: \" + row['table'] + \"\\n\" + \"Table Description: \" + row['description'] + \"\\n\"\n",
    "    \n",
    "    return table_details\n",
    "\n",
    "class Table(BaseModel):\n",
    "    \"\"\" Table in SQL databases\"\"\"\n",
    "\n",
    "    name: str = Field(description=\"Name of table in SQL database\")\n",
    "\n",
    "table_details = get_table_details(df)\n",
    "print(table_details)"
   ]
  },
  {
   "cell_type": "code",
   "execution_count": 119,
   "metadata": {},
   "outputs": [],
   "source": [
    "# from langchain_google_genai import ChatGoogleGenerativeAI\n",
    "# llm1 = ChatGoogleGenerativeAI(model=\"gemini-pro\",\n",
    "#                              temperature=0.7,  google_api_key=api_key, convert_system_message_to_human=True)\n",
    "\n",
    "# table_details_prompt = f\"\"\"Return the names of ALL the SQL tables that MIGHT be relevan to the user question. \\\n",
    "#     The tables are:\n",
    "    \n",
    "#     {table_details}\n",
    "# Remember to include ALL POTENTIALLY RELEVANT tables, even if you are not sure that they are needed.\n",
    "#     \"\"\"\n",
    "\n",
    "# table_chin = create_extraction_chain_pydantic(Table, llm1, system_message=table_details_prompt)\n",
    "# tables = table_chin.invoke({\"input\": \"give us details of customer and their invoice count\"})\n",
    "# tables"
   ]
  },
  {
   "cell_type": "code",
   "execution_count": 120,
   "metadata": {},
   "outputs": [
    {
     "name": "stdout",
     "output_type": "stream",
     "text": [
      "System: You are a SQLite expert. Given an input question, create a symtactically correct SQLite query to run. Unless otherwise specified. \n",
      "\n",
      "Here is the relevant table info: some table info\n",
      "\n",
      "Below are a number of examples of questions and their corresponding SQL queries.\n",
      "Human: Show details of the invoice for track ID 4\n",
      "SQLQuery:\n",
      "AI: SELECT i.InvoiceId, i.CustomerId, c.FirstName, c.LastName, il.UnitPrice, il.Quantity, i.Total FROM Invoice i JOIN InvoiceLine il ON i.InvoiceId = il.InvoiceId JOIN Customer c ON i.CustomerId = c.CustomerId WHERE il.TrackId = 4\n",
      "Human: What is the total amount invoiced to customer Embraer - Empresa Brasileira de Aeronáutica S.A.?\n",
      "SQLQuery:\n",
      "AI: SELECT SUM(Total) FROM Invoice WHERE CustomerId = (SELECT CustomerId FROM Customer WHERE Company = 'Embraer - Empresa Brasileira de Aeronáutica S.A.')\n",
      "Human: I want to find the contact details for customer Leonie Köhler\n",
      "SQLQuery:\n",
      "AI: SELECT * FROM Customer WHERE FirstName = 'Leonie' AND LastName = 'Köhler'\n",
      "Human: List all invoices with a total over $4.00\n",
      "SQLQuery:\n",
      "AI: SELECT * FROM Invoice WHERE Total > 4.00\n",
      "Human: I am looking for the most paying customer?\n"
     ]
    }
   ],
   "source": [
    "final_prompt = ChatPromptTemplate.from_messages(\n",
    "    [\n",
    "    (\"system\", \"You are a SQLite expert. Given an input question, create a symtactically correct SQLite query to run. Unless otherwise specified. \\n\\nHere is the relevant table info: {table_info}\\n\\nBelow are a number of examples of questions and their corresponding SQL queries.\"),\n",
    "    few_shot_prompt, \n",
    "    MessagesPlaceholder(variable_name=\"messages\"),\n",
    "    (\"human\", \"{input}\"),\n",
    "    ]\n",
    ")\n",
    "\n",
    "print(final_prompt.format(input=\"I am looking for the most paying customer?\", table_info=\"some table info\", messages=[]))"
   ]
  },
  {
   "cell_type": "code",
   "execution_count": 121,
   "metadata": {},
   "outputs": [],
   "source": [
    "from langchain.memory import ChatMessageHistory\n",
    "history = ChatMessageHistory()\n",
    "generate_query = create_sql_query_chain(llm, db, final_prompt)\n",
    "chain= (\n",
    "    RunnablePassthrough.assign(query=generate_query).assign(\n",
    "        result=itemgetter(\"query\") | execute_query\n",
    "    )\n",
    "| rephrase_answer\n",
    ")"
   ]
  },
  {
   "cell_type": "code",
   "execution_count": 122,
   "metadata": {},
   "outputs": [
    {
     "data": {
      "text/plain": [
       "'The query contains an error.'"
      ]
     },
     "execution_count": 122,
     "metadata": {},
     "output_type": "execute_result"
    }
   ],
   "source": [
    "question = \"How many customers with order count more than 5\"\n",
    "response = chain.invoke({\"question\": question,\"messages\":history.messages})\n",
    "response"
   ]
  },
  {
   "cell_type": "code",
   "execution_count": 123,
   "metadata": {},
   "outputs": [
    {
     "data": {
      "text/plain": [
       "'The query you provided has a syntax error. Please fix the query and try again.'"
      ]
     },
     "execution_count": 123,
     "metadata": {},
     "output_type": "execute_result"
    }
   ],
   "source": [
    "history.add_user_message(question)\n",
    "history.add_ai_message(response)\n",
    "response = chain.invoke({\"question\": \"Can you list there fullnames?\", \"messages\":history.messages})\n",
    "response"
   ]
  },
  {
   "cell_type": "code",
   "execution_count": null,
   "metadata": {},
   "outputs": [],
   "source": []
  }
 ],
 "metadata": {
  "kernelspec": {
   "display_name": "env",
   "language": "python",
   "name": "python3"
  },
  "language_info": {
   "codemirror_mode": {
    "name": "ipython",
    "version": 3
   },
   "file_extension": ".py",
   "mimetype": "text/x-python",
   "name": "python",
   "nbconvert_exporter": "python",
   "pygments_lexer": "ipython3",
   "version": "3.10.2"
  }
 },
 "nbformat": 4,
 "nbformat_minor": 2
}
